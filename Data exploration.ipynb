{
 "cells": [
  {
   "cell_type": "markdown",
   "metadata": {},
   "source": [
    "## Learning objectives\n",
    "* Students should be able to assess the structure and cleanliness of their dataset, including size and shape of data, number of variables of each type \n",
    "* Students should be able to describe their findings, translate results from code to text using Markdown comments in the Jupyter Notebook, and summarize their thought process in a narrative\n",
    "* Students should be able to modify the raw data to prepare a clean data set -- including copying data, removing or replacing missing and incoherent data, dropping columns, removing duplicates in Pandas and Jupyter -- and explain and justify their decisions in markdown in their Jupyter notebook\n",
    "* Students should be able to assess whether their data is “Tidy” and identify appropriate steps and write and  execute code to arrange it into a tidy format - including merging, reshaping, subsetting, grouping, sorting, making appropriate new columns  - and explain and justify their decisions in markdown in their Jupyter notebook\n",
    "* Students should be able to identify several relevant summary measures, illustrate data using appropriate plots, and explain and justify their decisions in markdown in their Jupyter notebook\n",
    "* Student should assess the summaries and plots and appraise the need for repeated or further analysis, and justify decisions in markdown\n"
   ]
  },
  {
   "cell_type": "markdown",
   "metadata": {},
   "source": [
    "## Describe findings, translate results into Markdown text\n",
    " This is more of an overarching goal that should be woven in through the lesson"
   ]
  },
  {
   "cell_type": "markdown",
   "metadata": {},
   "source": [
    "## Assess the structure and cleanliness\n",
    "\n",
    "* Take “header” of data, # columns/rows, length, shape, size\n",
    "* Cheat sheet for commands\n",
    "* make sure data is in right type - categorical, continuous numerical, string, datetime\n",
    "* use markdown to comment\n"
   ]
  },
  {
   "cell_type": "code",
   "execution_count": 1,
   "metadata": {
    "collapsed": true
   },
   "outputs": [],
   "source": [
    "import pandas as pd"
   ]
  },
  {
   "cell_type": "code",
   "execution_count": 3,
   "metadata": {
    "collapsed": false
   },
   "outputs": [
    {
     "data": {
      "text/html": [
       "<div>\n",
       "<table border=\"1\" class=\"dataframe\">\n",
       "  <thead>\n",
       "    <tr style=\"text-align: right;\">\n",
       "      <th></th>\n",
       "      <th>year</th>\n",
       "      <th>pop</th>\n",
       "      <th>lifeExp</th>\n",
       "      <th>gdpPercap</th>\n",
       "      <th>region</th>\n",
       "    </tr>\n",
       "  </thead>\n",
       "  <tbody>\n",
       "    <tr>\n",
       "      <th>0</th>\n",
       "      <td>1952</td>\n",
       "      <td>8425333.0</td>\n",
       "      <td>28.801</td>\n",
       "      <td>779.445314</td>\n",
       "      <td>Asia_Afghanistan</td>\n",
       "    </tr>\n",
       "    <tr>\n",
       "      <th>1</th>\n",
       "      <td>1957</td>\n",
       "      <td>9240934.0</td>\n",
       "      <td>30.332</td>\n",
       "      <td>820.853030</td>\n",
       "      <td>Asia_Afghanistan</td>\n",
       "    </tr>\n",
       "    <tr>\n",
       "      <th>2</th>\n",
       "      <td>1962</td>\n",
       "      <td>10267083.0</td>\n",
       "      <td>31.997</td>\n",
       "      <td>853.100710</td>\n",
       "      <td>Asia_Afghanistan</td>\n",
       "    </tr>\n",
       "    <tr>\n",
       "      <th>3</th>\n",
       "      <td>1967</td>\n",
       "      <td>11537966.0</td>\n",
       "      <td>34.020</td>\n",
       "      <td>836.197138</td>\n",
       "      <td>Asia_Afghanistan</td>\n",
       "    </tr>\n",
       "    <tr>\n",
       "      <th>4</th>\n",
       "      <td>1972</td>\n",
       "      <td>13079460.0</td>\n",
       "      <td>36.088</td>\n",
       "      <td>739.981106</td>\n",
       "      <td>Asia_Afghanistan</td>\n",
       "    </tr>\n",
       "  </tbody>\n",
       "</table>\n",
       "</div>"
      ],
      "text/plain": [
       "   year         pop  lifeExp   gdpPercap            region\n",
       "0  1952   8425333.0   28.801  779.445314  Asia_Afghanistan\n",
       "1  1957   9240934.0   30.332  820.853030  Asia_Afghanistan\n",
       "2  1962  10267083.0   31.997  853.100710  Asia_Afghanistan\n",
       "3  1967  11537966.0   34.020  836.197138  Asia_Afghanistan\n",
       "4  1972  13079460.0   36.088  739.981106  Asia_Afghanistan"
      ]
     },
     "execution_count": 3,
     "metadata": {},
     "output_type": "execute_result"
    }
   ],
   "source": [
    "url = \"https://raw.githubusercontent.com/STAT545-UBC/STAT545-UBC.github.io/master/gapminderDataFiveYear_dirty.txt\"\n",
    "gapminder = pd.read_table(url, sep = \"\\t\")\n",
    "gapminder.head()"
   ]
  },
  {
   "cell_type": "code",
   "execution_count": 4,
   "metadata": {
    "collapsed": false
   },
   "outputs": [
    {
     "data": {
      "text/plain": [
       "(1704, 5)"
      ]
     },
     "execution_count": 4,
     "metadata": {},
     "output_type": "execute_result"
    }
   ],
   "source": [
    "gapminder.shape"
   ]
  },
  {
   "cell_type": "markdown",
   "metadata": {},
   "source": [
    "The describe() method will take the numeric columns and give a summary of their values. This is useful for getting a sense of the ranges of values and seeing if there are any unusual or suspicious numbers.\n"
   ]
  },
  {
   "cell_type": "code",
   "execution_count": 5,
   "metadata": {
    "collapsed": false
   },
   "outputs": [
    {
     "data": {
      "text/html": [
       "<div>\n",
       "<table border=\"1\" class=\"dataframe\">\n",
       "  <thead>\n",
       "    <tr style=\"text-align: right;\">\n",
       "      <th></th>\n",
       "      <th>year</th>\n",
       "      <th>pop</th>\n",
       "      <th>lifeExp</th>\n",
       "      <th>gdpPercap</th>\n",
       "    </tr>\n",
       "  </thead>\n",
       "  <tbody>\n",
       "    <tr>\n",
       "      <th>count</th>\n",
       "      <td>1704.00000</td>\n",
       "      <td>1.704000e+03</td>\n",
       "      <td>1704.000000</td>\n",
       "      <td>1704.000000</td>\n",
       "    </tr>\n",
       "    <tr>\n",
       "      <th>mean</th>\n",
       "      <td>1979.50000</td>\n",
       "      <td>2.960121e+07</td>\n",
       "      <td>59.474439</td>\n",
       "      <td>7215.327081</td>\n",
       "    </tr>\n",
       "    <tr>\n",
       "      <th>std</th>\n",
       "      <td>17.26533</td>\n",
       "      <td>1.061579e+08</td>\n",
       "      <td>12.917107</td>\n",
       "      <td>9857.454543</td>\n",
       "    </tr>\n",
       "    <tr>\n",
       "      <th>min</th>\n",
       "      <td>1952.00000</td>\n",
       "      <td>6.001100e+04</td>\n",
       "      <td>23.599000</td>\n",
       "      <td>241.165877</td>\n",
       "    </tr>\n",
       "    <tr>\n",
       "      <th>25%</th>\n",
       "      <td>1965.75000</td>\n",
       "      <td>2.793664e+06</td>\n",
       "      <td>48.198000</td>\n",
       "      <td>1202.060309</td>\n",
       "    </tr>\n",
       "    <tr>\n",
       "      <th>50%</th>\n",
       "      <td>1979.50000</td>\n",
       "      <td>7.023596e+06</td>\n",
       "      <td>60.712500</td>\n",
       "      <td>3531.846989</td>\n",
       "    </tr>\n",
       "    <tr>\n",
       "      <th>75%</th>\n",
       "      <td>1993.25000</td>\n",
       "      <td>1.958522e+07</td>\n",
       "      <td>70.845500</td>\n",
       "      <td>9325.462346</td>\n",
       "    </tr>\n",
       "    <tr>\n",
       "      <th>max</th>\n",
       "      <td>2007.00000</td>\n",
       "      <td>1.318683e+09</td>\n",
       "      <td>82.603000</td>\n",
       "      <td>113523.132900</td>\n",
       "    </tr>\n",
       "  </tbody>\n",
       "</table>\n",
       "</div>"
      ],
      "text/plain": [
       "             year           pop      lifeExp      gdpPercap\n",
       "count  1704.00000  1.704000e+03  1704.000000    1704.000000\n",
       "mean   1979.50000  2.960121e+07    59.474439    7215.327081\n",
       "std      17.26533  1.061579e+08    12.917107    9857.454543\n",
       "min    1952.00000  6.001100e+04    23.599000     241.165877\n",
       "25%    1965.75000  2.793664e+06    48.198000    1202.060309\n",
       "50%    1979.50000  7.023596e+06    60.712500    3531.846989\n",
       "75%    1993.25000  1.958522e+07    70.845500    9325.462346\n",
       "max    2007.00000  1.318683e+09    82.603000  113523.132900"
      ]
     },
     "execution_count": 5,
     "metadata": {},
     "output_type": "execute_result"
    }
   ],
   "source": [
    "gapminder.describe()"
   ]
  },
  {
   "cell_type": "markdown",
   "metadata": {},
   "source": [
    "\n",
    "describe() just blindly looks at all numeric variables. But we wouldn't actually want to take the mean year. Let's pull out only the correct columns."
   ]
  },
  {
   "cell_type": "code",
   "execution_count": 17,
   "metadata": {
    "collapsed": false
   },
   "outputs": [
    {
     "data": {
      "text/html": [
       "<div>\n",
       "<table border=\"1\" class=\"dataframe\">\n",
       "  <thead>\n",
       "    <tr style=\"text-align: right;\">\n",
       "      <th></th>\n",
       "      <th>pop</th>\n",
       "      <th>lifeExp</th>\n",
       "      <th>gdpPercap</th>\n",
       "    </tr>\n",
       "  </thead>\n",
       "  <tbody>\n",
       "    <tr>\n",
       "      <th>count</th>\n",
       "      <td>1.704000e+03</td>\n",
       "      <td>1704.000000</td>\n",
       "      <td>1704.000000</td>\n",
       "    </tr>\n",
       "    <tr>\n",
       "      <th>mean</th>\n",
       "      <td>2.960121e+07</td>\n",
       "      <td>59.474439</td>\n",
       "      <td>7215.327081</td>\n",
       "    </tr>\n",
       "    <tr>\n",
       "      <th>std</th>\n",
       "      <td>1.061579e+08</td>\n",
       "      <td>12.917107</td>\n",
       "      <td>9857.454543</td>\n",
       "    </tr>\n",
       "    <tr>\n",
       "      <th>min</th>\n",
       "      <td>6.001100e+04</td>\n",
       "      <td>23.599000</td>\n",
       "      <td>241.165877</td>\n",
       "    </tr>\n",
       "    <tr>\n",
       "      <th>25%</th>\n",
       "      <td>2.793664e+06</td>\n",
       "      <td>48.198000</td>\n",
       "      <td>1202.060309</td>\n",
       "    </tr>\n",
       "    <tr>\n",
       "      <th>50%</th>\n",
       "      <td>7.023596e+06</td>\n",
       "      <td>60.712500</td>\n",
       "      <td>3531.846989</td>\n",
       "    </tr>\n",
       "    <tr>\n",
       "      <th>75%</th>\n",
       "      <td>1.958522e+07</td>\n",
       "      <td>70.845500</td>\n",
       "      <td>9325.462346</td>\n",
       "    </tr>\n",
       "    <tr>\n",
       "      <th>max</th>\n",
       "      <td>1.318683e+09</td>\n",
       "      <td>82.603000</td>\n",
       "      <td>113523.132900</td>\n",
       "    </tr>\n",
       "  </tbody>\n",
       "</table>\n",
       "</div>"
      ],
      "text/plain": [
       "                pop      lifeExp      gdpPercap\n",
       "count  1.704000e+03  1704.000000    1704.000000\n",
       "mean   2.960121e+07    59.474439    7215.327081\n",
       "std    1.061579e+08    12.917107    9857.454543\n",
       "min    6.001100e+04    23.599000     241.165877\n",
       "25%    2.793664e+06    48.198000    1202.060309\n",
       "50%    7.023596e+06    60.712500    3531.846989\n",
       "75%    1.958522e+07    70.845500    9325.462346\n",
       "max    1.318683e+09    82.603000  113523.132900"
      ]
     },
     "execution_count": 17,
     "metadata": {},
     "output_type": "execute_result"
    }
   ],
   "source": [
    "gapminder[['pop', 'lifeExp', 'gdpPercap']].describe()"
   ]
  },
  {
   "cell_type": "markdown",
   "metadata": {},
   "source": [
    "Why look at a value_counts table like this?\n",
    "- how many values are there?\n",
    "- do the data look how we would expect? We anticipate 12 measurements for each year\n",
    "- Discover inconsistencies -- some are legit, like Congo changed names, some are not"
   ]
  },
  {
   "cell_type": "code",
   "execution_count": 16,
   "metadata": {
    "collapsed": false
   },
   "outputs": [
    {
     "name": "stdout",
     "output_type": "stream",
     "text": [
      "151\n"
     ]
    },
    {
     "data": {
      "text/plain": [
       "Asia_Oman                                  12\n",
       "Asia_Cambodia                              12\n",
       "Africa_Namibia                             12\n",
       "Oceania_New Zealand                        12\n",
       "Africa_Gabon                               12\n",
       "Europe_Czech Republic                      12\n",
       "Africa_Nigeria                             12\n",
       "Africa_Sao Tome and Principe               12\n",
       "Africa_Mali                                12\n",
       "Africa_Guinea                              12\n",
       "Asia_Bangladesh                            12\n",
       "Africa_Chad                                12\n",
       "Africa_Kenya                               12\n",
       "Asia_Nepal                                 12\n",
       "Africa_Zambia                              12\n",
       "Europe_Sweden                              12\n",
       "Asia_Iraq                                  12\n",
       "Americas_Bolivia                           12\n",
       "Africa_Mauritania                          12\n",
       "Europe_Norway                              12\n",
       "Asia_Syria                                 12\n",
       "Asia_Yemen, Rep.                           12\n",
       "Europe_Croatia                             12\n",
       "Asia_Korea, Rep.                           12\n",
       "Africa_Sudan                               12\n",
       "Africa_Tanzania                            12\n",
       "Africa_Somalia                             12\n",
       "Asia_Afghanistan                           12\n",
       "Americas_Trinidad and Tobago               12\n",
       "Europe_Belgium                             12\n",
       "                                           ..\n",
       "Africa_Eritrea                             12\n",
       "Asia_Thailand                              12\n",
       "Americas_Ecuador                           12\n",
       "Asia_Taiwan                                12\n",
       "Africa_Morocco                             12\n",
       "Americas_Brazil                            12\n",
       "Americas_Puerto Rico                       12\n",
       "Asia_Malaysia                              12\n",
       "Americas_Jamaica                           12\n",
       "Americas_Honduras                          12\n",
       "Africa_Niger                               12\n",
       "Europe_Italy                               12\n",
       "Europe_Netherlands                         12\n",
       "Asia_Jordan                                11\n",
       "Africa_Cote d'Ivoire                       11\n",
       "Asia_Korea, Dem. Rep.                      10\n",
       "Africa_Congo, Dem. Rep.                    10\n",
       "Americas_Colombia                          10\n",
       "Americas_Canada                             9\n",
       "Asia_China                                  8\n",
       "Africa_Central African Republic             8\n",
       "Asia_china                                  4\n",
       "Africa_Central african republic             4\n",
       "_Canada                                     3\n",
       "    Asia_Korea, Dem. Rep.                   2\n",
       "Americas_Colombia                           2\n",
       "    Asia_Jordan                             1\n",
       "Africa_Democratic Republic of the Congo     1\n",
       "Africa_Congo, Democratic Republic           1\n",
       "Africa_Cote d'Ivore                         1\n",
       "Name: region, dtype: int64"
      ]
     },
     "execution_count": 16,
     "metadata": {},
     "output_type": "execute_result"
    }
   ],
   "source": [
    "print(len(gapminder['region'].unique())) # How many unique regions are in the data?\n",
    "gapminder['region'].value_counts() # How many times does each unique region occur?"
   ]
  },
  {
   "cell_type": "markdown",
   "metadata": {},
   "source": [
    "This table reveals some problems: we should have 12 counts for every country/region but some have fewer than 12. E.g. _Canada, Asia_China vs Asia_china, etc. It will require some string processing to clean up."
   ]
  },
  {
   "cell_type": "code",
   "execution_count": null,
   "metadata": {
    "collapsed": true
   },
   "outputs": [],
   "source": []
  },
  {
   "cell_type": "markdown",
   "metadata": {},
   "source": [
    "## Modify the dataset -- cleaning\n",
    "\n",
    "* Make a copy of the data\n",
    "in place vs. not\n",
    "pandas.DataFrame.copy() - make a copy of data frame\n",
    "* Assigning to new variable/df names \n",
    "* Dealing with missing data\n",
    "Pros and cons of dropping NAs and inconsistent data\n",
    "* Dealing with incoherent data (NA, na, N/A, n/a, ND, not done, XXXX) misspellings, etc\n",
    "Regex, data transformation to address inconsistency (fill_na)\n",
    "* Dropping columns\n",
    "df.drop()\n",
    "* Removing duplicates\n",
    "df.drop_duplicates()\n"
   ]
  },
  {
   "cell_type": "code",
   "execution_count": null,
   "metadata": {
    "collapsed": true
   },
   "outputs": [],
   "source": []
  },
  {
   "cell_type": "markdown",
   "metadata": {},
   "source": [
    "## Prepare the data structure -- tidy data\n",
    "\n",
    "* Describe Tidy Data - each variable has it’s own column, each observation has its own row. \n",
    "* Reshaping (if necessary) \n",
    "renaming columns (from names that don’t make sense, names with strange characters, etc to names that make sense) \n",
    "* Merging datasets,\n",
    "Pandas - merge()[left, right, inner, outer], concat()\n",
    "* Subsetting data\n",
    "0) refer back to the way we selected columns in .describe() above\n",
    "1) Indexing - numerically(zero indexing) vs by names, boolean indices, \n",
    "2) Slicing - base python and/or pandas\n",
    "3) List comprehensions\n",
    "* Regular expressions (complicated! But useful and important)\n",
    "* Grouping data, Indexing DataFrames\n",
    "df.groupby(by=\"col\")\n",
    "* Sorting data\n",
    "df.sort_values()\n",
    "df.sort_index()\n",
    "* Creating new variables/columns (for transformation (log, sqrt, etc)\n"
   ]
  },
  {
   "cell_type": "code",
   "execution_count": null,
   "metadata": {
    "collapsed": true
   },
   "outputs": [],
   "source": []
  },
  {
   "cell_type": "markdown",
   "metadata": {},
   "source": [
    "## Summarize and plot\n",
    "\n",
    "Summaries (but can’t *say* statistics…)\n",
    "* Sort data\n",
    "* Can make note about using numpy functions, dif between dataframe and array\n",
    "Good Plots for the data/variable type\n",
    "\n",
    "\n",
    "\n",
    "Plots \n",
    "* of subsets, \n",
    "* single variables\n",
    "* pairs of variables\n",
    "* Matplotlib syntax (w/ seaborn for defaults (prettier, package also good for more analysis later...))\n",
    "\n",
    "Exploring is often iterative - summarize, plot, summarize, plot, etc. - sometimes it branches…\n"
   ]
  },
  {
   "cell_type": "code",
   "execution_count": null,
   "metadata": {
    "collapsed": true
   },
   "outputs": [],
   "source": []
  },
  {
   "cell_type": "markdown",
   "metadata": {},
   "source": [
    "## Interpret plots"
   ]
  },
  {
   "cell_type": "code",
   "execution_count": null,
   "metadata": {
    "collapsed": true
   },
   "outputs": [],
   "source": []
  }
 ],
 "metadata": {
  "kernelspec": {
   "display_name": "Python 3",
   "language": "python",
   "name": "python3"
  },
  "language_info": {
   "codemirror_mode": {
    "name": "ipython",
    "version": 3
   },
   "file_extension": ".py",
   "mimetype": "text/x-python",
   "name": "python",
   "nbconvert_exporter": "python",
   "pygments_lexer": "ipython3",
   "version": "3.4.3"
  }
 },
 "nbformat": 4,
 "nbformat_minor": 1
}

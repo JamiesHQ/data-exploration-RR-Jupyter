{
 "cells": [
  {
   "cell_type": "markdown",
   "metadata": {},
   "source": [
    "## Learning objectives\n",
    "* Students should be able to assess the structure and cleanliness of their dataset, including size and shape of data, number of variables of each type \n",
    "* Students should be able to describe their findings, translate results from code to text using Markdown comments in the Jupyter Notebook, and summarize their thought process in a narrative\n",
    "* Students should be able to modify the raw data to prepare a clean data set -- including copying data, removing or replacing missing and incoherent data, dropping columns, removing duplicates in Pandas and Jupyter -- and explain and justify their decisions in markdown in their Jupyter notebook\n",
    "* Students should be able to assess whether their data is “Tidy” and identify appropriate steps and write and  execute code to arrange it into a tidy format - including merging, reshaping, subsetting, grouping, sorting, making appropriate new columns  - and explain and justify their decisions in markdown in their Jupyter notebook\n",
    "* Students should be able to identify several relevant summary measures, illustrate data using appropriate plots, and explain and justify their decisions in markdown in their Jupyter notebook\n",
    "* Student should assess the summaries and plots and appraise the need for repeated or further analysis, and justify decisions in markdown\n"
   ]
  },
  {
   "cell_type": "markdown",
   "metadata": {},
   "source": [
    "# Describe findings, translate results into Markdown text\n",
    " This is more of an overarching goal that should be woven in through the lesson"
   ]
  },
  {
   "cell_type": "markdown",
   "metadata": {},
   "source": [
    "# Assess the structure and cleanliness\n",
    "\n",
    "## About Libraries in Python\n",
    "\n",
    "A library in Python contains a set of tools (called functions) that perform tasks on our data. Importing a library is like getting a piece of lab equipment out of a storage locker and setting it up on the bench for use in a project. Once a library is imported, it can be used or called to perform many tasks.\n",
    "\n",
    "## The Pandas Library\n",
    "\n",
    "One of the best options for working with tabular data in Python is to use the Python Data Analysis Library (a.k.a. Pandas). The Pandas library provides data structures, produces high quality plots with matplotlib and integrates nicely with other libraries that use NumPy (which is another Python library) arrays.\n",
    "\n",
    "Python doesn’t load all of the libraries available to it by default. We have to add an import statement to our code in order to use library functions. To import a library, we use the syntax `import libraryName`. If we want to give the library a nickname to shorten the command, we can add `as nickNameHere`. An example of importing the pandas library using the common nickname pd is below.\n"
   ]
  },
  {
   "cell_type": "code",
   "execution_count": 1,
   "metadata": {
    "collapsed": true
   },
   "outputs": [],
   "source": [
    "import pandas as pd"
   ]
  },
  {
   "cell_type": "markdown",
   "metadata": {},
   "source": [
    "Each time we call a function that’s in a library, we use the syntax `LibraryName.FunctionName`. Adding the library name with a `.` before the function name tells Python where to find the function. In the example above, we have imported Pandas as `pd`. This means we don’t have to type out pandas each time we call a Pandas function.\n",
    "\n",
    "We will begin by locating and reading our data which are in a table format. We can use Pandas’ `read_table` function to pull the file directly into a DataFrame.\n",
    "\n",
    "## What’s a DataFrame?\n",
    "A DataFrame is a 2-dimensional data structure that can store data of different types (including characters, integers, floating point values, factors and more) in columns. It is similar to a spreadsheet or an SQL table or the data.frame in R. A DataFrame always has an index (0-based). An index refers to the position of an element in the data structure.\n",
    "\n",
    "Note that we use `pd.read_table`, not just `read_table` or `pandas.read_table`, because we imported pandas as pd.\n",
    "\n",
    "The columns in the data set are separated by a TAB. We need to tell the `read_table` function in Pandas that that is the case with `sep = ‘\\t’`.\n"
   ]
  },
  {
   "cell_type": "code",
   "execution_count": 50,
   "metadata": {
    "collapsed": false
   },
   "outputs": [
    {
     "data": {
      "text/html": [
       "<div>\n",
       "<table border=\"1\" class=\"dataframe\">\n",
       "  <thead>\n",
       "    <tr style=\"text-align: right;\">\n",
       "      <th></th>\n",
       "      <th>year</th>\n",
       "      <th>pop</th>\n",
       "      <th>lifeExp</th>\n",
       "      <th>gdpPercap</th>\n",
       "      <th>region</th>\n",
       "    </tr>\n",
       "  </thead>\n",
       "  <tbody>\n",
       "    <tr>\n",
       "      <th>0</th>\n",
       "      <td>1952</td>\n",
       "      <td>8425333.0</td>\n",
       "      <td>28.801</td>\n",
       "      <td>779.445314</td>\n",
       "      <td>Asia_Afghanistan</td>\n",
       "    </tr>\n",
       "    <tr>\n",
       "      <th>1</th>\n",
       "      <td>1957</td>\n",
       "      <td>9240934.0</td>\n",
       "      <td>30.332</td>\n",
       "      <td>820.853030</td>\n",
       "      <td>Asia_Afghanistan</td>\n",
       "    </tr>\n",
       "    <tr>\n",
       "      <th>2</th>\n",
       "      <td>1962</td>\n",
       "      <td>10267083.0</td>\n",
       "      <td>31.997</td>\n",
       "      <td>853.100710</td>\n",
       "      <td>Asia_Afghanistan</td>\n",
       "    </tr>\n",
       "    <tr>\n",
       "      <th>3</th>\n",
       "      <td>1967</td>\n",
       "      <td>11537966.0</td>\n",
       "      <td>34.020</td>\n",
       "      <td>836.197138</td>\n",
       "      <td>Asia_Afghanistan</td>\n",
       "    </tr>\n",
       "    <tr>\n",
       "      <th>4</th>\n",
       "      <td>1972</td>\n",
       "      <td>13079460.0</td>\n",
       "      <td>36.088</td>\n",
       "      <td>739.981106</td>\n",
       "      <td>Asia_Afghanistan</td>\n",
       "    </tr>\n",
       "  </tbody>\n",
       "</table>\n",
       "</div>"
      ],
      "text/plain": [
       "   year         pop  lifeExp   gdpPercap            region\n",
       "0  1952   8425333.0   28.801  779.445314  Asia_Afghanistan\n",
       "1  1957   9240934.0   30.332  820.853030  Asia_Afghanistan\n",
       "2  1962  10267083.0   31.997  853.100710  Asia_Afghanistan\n",
       "3  1967  11537966.0   34.020  836.197138  Asia_Afghanistan\n",
       "4  1972  13079460.0   36.088  739.981106  Asia_Afghanistan"
      ]
     },
     "execution_count": 50,
     "metadata": {},
     "output_type": "execute_result"
    }
   ],
   "source": [
    "url = \"https://raw.githubusercontent.com/STAT545-UBC/STAT545-UBC.github.io/master/gapminderDataFiveYear_dirty.txt\"\n",
    "gapminder = pd.read_table(url, sep = \"\\t\")\n",
    "gapminder.head()"
   ]
  },
  {
   "cell_type": "markdown",
   "metadata": {},
   "source": [
    "### How many rows and columns are in the data?\n",
    "We often want to know how many rows and columns are in the data  --  we want to know what is called the \"shape\" attribute of the data frame. Pandas has a convenient way for getting that information by using the `DataFrame.shape` (using DataFrame as a generic name for a, well, data frame). This returns a tuple (values separated by commas) representing the dimensions of the DataFrame (rows, columns).<p>\n",
    "To get the shape of the gapminder data frame:"
   ]
  },
  {
   "cell_type": "code",
   "execution_count": 4,
   "metadata": {
    "collapsed": false
   },
   "outputs": [
    {
     "data": {
      "text/plain": [
       "(1704, 5)"
      ]
     },
     "execution_count": 4,
     "metadata": {},
     "output_type": "execute_result"
    }
   ],
   "source": [
    "gapminder.shape"
   ]
  },
  {
   "cell_type": "markdown",
   "metadata": {},
   "source": [
    "The `info()` method gives a few useful pieces of information, including the shape of the dataframe, the variable type of each column, and the amount of memory stored."
   ]
  },
  {
   "cell_type": "code",
   "execution_count": 22,
   "metadata": {
    "collapsed": false
   },
   "outputs": [
    {
     "name": "stdout",
     "output_type": "stream",
     "text": [
      "<class 'pandas.core.frame.DataFrame'>\n",
      "RangeIndex: 1704 entries, 0 to 1703\n",
      "Data columns (total 5 columns):\n",
      "year         1704 non-null int64\n",
      "pop          1704 non-null float64\n",
      "lifeExp      1704 non-null float64\n",
      "gdpPercap    1704 non-null float64\n",
      "region       1704 non-null object\n",
      "dtypes: float64(3), int64(1), object(1)\n",
      "memory usage: 66.6+ KB\n"
     ]
    }
   ],
   "source": [
    "gapminder.info()"
   ]
  },
  {
   "cell_type": "markdown",
   "metadata": {},
   "source": [
    "The `describe()` method will take the numeric columns and give a summary of their values. This is useful for getting a sense of the ranges of values and seeing if there are any unusual or suspicious numbers.\n"
   ]
  },
  {
   "cell_type": "code",
   "execution_count": 5,
   "metadata": {
    "collapsed": false
   },
   "outputs": [
    {
     "data": {
      "text/html": [
       "<div>\n",
       "<table border=\"1\" class=\"dataframe\">\n",
       "  <thead>\n",
       "    <tr style=\"text-align: right;\">\n",
       "      <th></th>\n",
       "      <th>year</th>\n",
       "      <th>pop</th>\n",
       "      <th>lifeExp</th>\n",
       "      <th>gdpPercap</th>\n",
       "    </tr>\n",
       "  </thead>\n",
       "  <tbody>\n",
       "    <tr>\n",
       "      <th>count</th>\n",
       "      <td>1704.00000</td>\n",
       "      <td>1.704000e+03</td>\n",
       "      <td>1704.000000</td>\n",
       "      <td>1704.000000</td>\n",
       "    </tr>\n",
       "    <tr>\n",
       "      <th>mean</th>\n",
       "      <td>1979.50000</td>\n",
       "      <td>2.960121e+07</td>\n",
       "      <td>59.474439</td>\n",
       "      <td>7215.327081</td>\n",
       "    </tr>\n",
       "    <tr>\n",
       "      <th>std</th>\n",
       "      <td>17.26533</td>\n",
       "      <td>1.061579e+08</td>\n",
       "      <td>12.917107</td>\n",
       "      <td>9857.454543</td>\n",
       "    </tr>\n",
       "    <tr>\n",
       "      <th>min</th>\n",
       "      <td>1952.00000</td>\n",
       "      <td>6.001100e+04</td>\n",
       "      <td>23.599000</td>\n",
       "      <td>241.165877</td>\n",
       "    </tr>\n",
       "    <tr>\n",
       "      <th>25%</th>\n",
       "      <td>1965.75000</td>\n",
       "      <td>2.793664e+06</td>\n",
       "      <td>48.198000</td>\n",
       "      <td>1202.060309</td>\n",
       "    </tr>\n",
       "    <tr>\n",
       "      <th>50%</th>\n",
       "      <td>1979.50000</td>\n",
       "      <td>7.023596e+06</td>\n",
       "      <td>60.712500</td>\n",
       "      <td>3531.846989</td>\n",
       "    </tr>\n",
       "    <tr>\n",
       "      <th>75%</th>\n",
       "      <td>1993.25000</td>\n",
       "      <td>1.958522e+07</td>\n",
       "      <td>70.845500</td>\n",
       "      <td>9325.462346</td>\n",
       "    </tr>\n",
       "    <tr>\n",
       "      <th>max</th>\n",
       "      <td>2007.00000</td>\n",
       "      <td>1.318683e+09</td>\n",
       "      <td>82.603000</td>\n",
       "      <td>113523.132900</td>\n",
       "    </tr>\n",
       "  </tbody>\n",
       "</table>\n",
       "</div>"
      ],
      "text/plain": [
       "             year           pop      lifeExp      gdpPercap\n",
       "count  1704.00000  1.704000e+03  1704.000000    1704.000000\n",
       "mean   1979.50000  2.960121e+07    59.474439    7215.327081\n",
       "std      17.26533  1.061579e+08    12.917107    9857.454543\n",
       "min    1952.00000  6.001100e+04    23.599000     241.165877\n",
       "25%    1965.75000  2.793664e+06    48.198000    1202.060309\n",
       "50%    1979.50000  7.023596e+06    60.712500    3531.846989\n",
       "75%    1993.25000  1.958522e+07    70.845500    9325.462346\n",
       "max    2007.00000  1.318683e+09    82.603000  113523.132900"
      ]
     },
     "execution_count": 5,
     "metadata": {},
     "output_type": "execute_result"
    }
   ],
   "source": [
    "gapminder.describe()"
   ]
  },
  {
   "cell_type": "markdown",
   "metadata": {},
   "source": [
    "\n",
    "describe() just blindly looks at all numeric variables. But we wouldn't actually want to take the mean year. Let's pull out only the correct columns."
   ]
  },
  {
   "cell_type": "code",
   "execution_count": 17,
   "metadata": {
    "collapsed": false
   },
   "outputs": [
    {
     "data": {
      "text/html": [
       "<div>\n",
       "<table border=\"1\" class=\"dataframe\">\n",
       "  <thead>\n",
       "    <tr style=\"text-align: right;\">\n",
       "      <th></th>\n",
       "      <th>pop</th>\n",
       "      <th>lifeExp</th>\n",
       "      <th>gdpPercap</th>\n",
       "    </tr>\n",
       "  </thead>\n",
       "  <tbody>\n",
       "    <tr>\n",
       "      <th>count</th>\n",
       "      <td>1.704000e+03</td>\n",
       "      <td>1704.000000</td>\n",
       "      <td>1704.000000</td>\n",
       "    </tr>\n",
       "    <tr>\n",
       "      <th>mean</th>\n",
       "      <td>2.960121e+07</td>\n",
       "      <td>59.474439</td>\n",
       "      <td>7215.327081</td>\n",
       "    </tr>\n",
       "    <tr>\n",
       "      <th>std</th>\n",
       "      <td>1.061579e+08</td>\n",
       "      <td>12.917107</td>\n",
       "      <td>9857.454543</td>\n",
       "    </tr>\n",
       "    <tr>\n",
       "      <th>min</th>\n",
       "      <td>6.001100e+04</td>\n",
       "      <td>23.599000</td>\n",
       "      <td>241.165877</td>\n",
       "    </tr>\n",
       "    <tr>\n",
       "      <th>25%</th>\n",
       "      <td>2.793664e+06</td>\n",
       "      <td>48.198000</td>\n",
       "      <td>1202.060309</td>\n",
       "    </tr>\n",
       "    <tr>\n",
       "      <th>50%</th>\n",
       "      <td>7.023596e+06</td>\n",
       "      <td>60.712500</td>\n",
       "      <td>3531.846989</td>\n",
       "    </tr>\n",
       "    <tr>\n",
       "      <th>75%</th>\n",
       "      <td>1.958522e+07</td>\n",
       "      <td>70.845500</td>\n",
       "      <td>9325.462346</td>\n",
       "    </tr>\n",
       "    <tr>\n",
       "      <th>max</th>\n",
       "      <td>1.318683e+09</td>\n",
       "      <td>82.603000</td>\n",
       "      <td>113523.132900</td>\n",
       "    </tr>\n",
       "  </tbody>\n",
       "</table>\n",
       "</div>"
      ],
      "text/plain": [
       "                pop      lifeExp      gdpPercap\n",
       "count  1.704000e+03  1704.000000    1704.000000\n",
       "mean   2.960121e+07    59.474439    7215.327081\n",
       "std    1.061579e+08    12.917107    9857.454543\n",
       "min    6.001100e+04    23.599000     241.165877\n",
       "25%    2.793664e+06    48.198000    1202.060309\n",
       "50%    7.023596e+06    60.712500    3531.846989\n",
       "75%    1.958522e+07    70.845500    9325.462346\n",
       "max    1.318683e+09    82.603000  113523.132900"
      ]
     },
     "execution_count": 17,
     "metadata": {},
     "output_type": "execute_result"
    }
   ],
   "source": [
    "gapminder[['pop', 'lifeExp', 'gdpPercap']].describe()"
   ]
  },
  {
   "cell_type": "markdown",
   "metadata": {},
   "source": [
    "The command value_counts() gives you a first global idea of your categorical data such as strings. In this case that is the column ‘Region’.\n",
    "The table reveals some problems. The data set covers 12 years, so each ‘region’ should appear 12 times. We also see inconsistencies (string variables are very susceptible to those), for instance:\n",
    "\n",
    "Asia_china\tvs. Asia_China\n",
    "\n",
    "Another type of problem is the various names of Congo. In order to analyze this dataset appropriately we need to take care of these issues."
   ]
  },
  {
   "cell_type": "code",
   "execution_count": 16,
   "metadata": {
    "collapsed": false
   },
   "outputs": [
    {
     "name": "stdout",
     "output_type": "stream",
     "text": [
      "151\n"
     ]
    },
    {
     "data": {
      "text/plain": [
       "Asia_Oman                                  12\n",
       "Asia_Cambodia                              12\n",
       "Africa_Namibia                             12\n",
       "Oceania_New Zealand                        12\n",
       "Africa_Gabon                               12\n",
       "Europe_Czech Republic                      12\n",
       "Africa_Nigeria                             12\n",
       "Africa_Sao Tome and Principe               12\n",
       "Africa_Mali                                12\n",
       "Africa_Guinea                              12\n",
       "Asia_Bangladesh                            12\n",
       "Africa_Chad                                12\n",
       "Africa_Kenya                               12\n",
       "Asia_Nepal                                 12\n",
       "Africa_Zambia                              12\n",
       "Europe_Sweden                              12\n",
       "Asia_Iraq                                  12\n",
       "Americas_Bolivia                           12\n",
       "Africa_Mauritania                          12\n",
       "Europe_Norway                              12\n",
       "Asia_Syria                                 12\n",
       "Asia_Yemen, Rep.                           12\n",
       "Europe_Croatia                             12\n",
       "Asia_Korea, Rep.                           12\n",
       "Africa_Sudan                               12\n",
       "Africa_Tanzania                            12\n",
       "Africa_Somalia                             12\n",
       "Asia_Afghanistan                           12\n",
       "Americas_Trinidad and Tobago               12\n",
       "Europe_Belgium                             12\n",
       "                                           ..\n",
       "Africa_Eritrea                             12\n",
       "Asia_Thailand                              12\n",
       "Americas_Ecuador                           12\n",
       "Asia_Taiwan                                12\n",
       "Africa_Morocco                             12\n",
       "Americas_Brazil                            12\n",
       "Americas_Puerto Rico                       12\n",
       "Asia_Malaysia                              12\n",
       "Americas_Jamaica                           12\n",
       "Americas_Honduras                          12\n",
       "Africa_Niger                               12\n",
       "Europe_Italy                               12\n",
       "Europe_Netherlands                         12\n",
       "Asia_Jordan                                11\n",
       "Africa_Cote d'Ivoire                       11\n",
       "Asia_Korea, Dem. Rep.                      10\n",
       "Africa_Congo, Dem. Rep.                    10\n",
       "Americas_Colombia                          10\n",
       "Americas_Canada                             9\n",
       "Asia_China                                  8\n",
       "Africa_Central African Republic             8\n",
       "Asia_china                                  4\n",
       "Africa_Central african republic             4\n",
       "_Canada                                     3\n",
       "    Asia_Korea, Dem. Rep.                   2\n",
       "Americas_Colombia                           2\n",
       "    Asia_Jordan                             1\n",
       "Africa_Democratic Republic of the Congo     1\n",
       "Africa_Congo, Democratic Republic           1\n",
       "Africa_Cote d'Ivore                         1\n",
       "Name: region, dtype: int64"
      ]
     },
     "execution_count": 16,
     "metadata": {},
     "output_type": "execute_result"
    }
   ],
   "source": [
    "print(len(gapminder['region'].unique())) # How many unique regions are in the data?\n",
    "gapminder['region'].value_counts() # How many times does each unique region occur?"
   ]
  },
  {
   "cell_type": "markdown",
   "metadata": {},
   "source": [
    "This table reveals some problems: we should have 12 counts for every country/region but some have fewer than 12. E.g. _Canada, Asia_China vs Asia_china, etc. It will require some string processing to clean up."
   ]
  },
  {
   "cell_type": "markdown",
   "metadata": {},
   "source": [
    "<font color='red'>**TO DO:** create an exercise</font>"
   ]
  },
  {
   "cell_type": "markdown",
   "metadata": {},
   "source": [
    "# Modify the dataset -- cleaning\n",
    "\n",
    "Skills to illustrate\n",
    "* Make a copy of the data\n",
    "in place vs. not\n",
    "pandas.DataFrame.copy() - make a copy of data frame\n",
    "* Assigning to new variable/df names \n",
    "* Dealing with missing data\n",
    "Pros and cons of dropping NAs and inconsistent data\n",
    "* Dealing with incoherent data (NA, na, N/A, n/a, ND, not done, XXXX) misspellings, etc\n",
    "Regex, data transformation to address inconsistency (fill_na)\n",
    "* dropping columns `df.drop()`:\n",
    "_In many instances, data sets may include variables that might not be relevant \n",
    "or interesting for the intended data exploration or downstream analysis. After\n",
    "an initial examination of the data, it's generally useful to remove from the \n",
    "data set those columns that correspond to irrelevant variables. Whenever \n",
    "removing variables, it is good practice to note exactly why such columns are\n",
    "being dropped._\n",
    "* Removing duplicates\n",
    "df.drop_duplicates()\n",
    "\n",
    "## New variables: country and continent\n",
    "\n",
    "The `region` column is a bit too messy for what we'd like to do.\n",
    "**TO DO:** narrative about tidy data\n",
    "\n",
    "### String manipulations\n",
    "\n",
    "Very common problems with string variables are  lingering white space and upper case vs. lower case.\n",
    "The following three commands remove all such trailing spaces (left and right) and put everything in lowercase. If you prefer, the three commands can be written in one single line (concept: chaining). "
   ]
  },
  {
   "cell_type": "code",
   "execution_count": 52,
   "metadata": {
    "collapsed": false
   },
   "outputs": [
    {
     "data": {
      "text/plain": [
       "asia_iraq                                  12\n",
       "americas_peru                              12\n",
       "europe_montenegro                          12\n",
       "africa_morocco                             12\n",
       "africa_south africa                        12\n",
       "europe_bosnia and herzegovina              12\n",
       "asia_japan                                 12\n",
       "africa_ghana                               12\n",
       "africa_kenya                               12\n",
       "africa_sao tome and principe               12\n",
       "africa_equatorial guinea                   12\n",
       "europe_france                              12\n",
       "africa_mauritania                          12\n",
       "asia_india                                 12\n",
       "europe_italy                               12\n",
       "asia_malaysia                              12\n",
       "americas_united states                     12\n",
       "asia_thailand                              12\n",
       "europe_poland                              12\n",
       "africa_nigeria                             12\n",
       "europe_slovenia                            12\n",
       "americas_trinidad and tobago               12\n",
       "americas_guatemala                         12\n",
       "africa_gabon                               12\n",
       "americas_puerto rico                       12\n",
       "asia_lebanon                               12\n",
       "africa_egypt                               12\n",
       "asia_pakistan                              12\n",
       "europe_finland                             12\n",
       "europe_portugal                            12\n",
       "                                           ..\n",
       "africa_djibouti                            12\n",
       "asia_cambodia                              12\n",
       "americas_panama                            12\n",
       "africa_ethiopia                            12\n",
       "asia_korea, dem. rep.                      12\n",
       "africa_liberia                             12\n",
       "americas_costa rica                        12\n",
       "asia_iran                                  12\n",
       "americas_paraguay                          12\n",
       "americas_el salvador                       12\n",
       "americas_argentina                         12\n",
       "europe_germany                             12\n",
       "europe_iceland                             12\n",
       "africa_chad                                12\n",
       "africa_botswana                            12\n",
       "americas_uruguay                           12\n",
       "africa_mali                                12\n",
       "oceania_australia                          12\n",
       "europe_greece                              12\n",
       "europe_switzerland                         12\n",
       "europe_bulgaria                            12\n",
       "asia_vietnam                               12\n",
       "africa_algeria                             12\n",
       "africa_cote d'ivoire                       11\n",
       "africa_congo, dem. rep.                    10\n",
       "americas_canada                             9\n",
       "_canada                                     3\n",
       "africa_cote d'ivore                         1\n",
       "africa_democratic republic of the congo     1\n",
       "africa_congo, democratic republic           1\n",
       "Name: region, dtype: int64"
      ]
     },
     "execution_count": 52,
     "metadata": {},
     "output_type": "execute_result"
    }
   ],
   "source": [
    "gapminder['region'] = gapminder['region'].str.lstrip() # Strip white space on left\n",
    "gapminder['region'] = gapminder['region'].str.rstrip() # Strip white space on right\n",
    "gapminder['region'] = gapminder['region'].str.lower() # Convert to lowercase\n",
    "gapminder['region'].value_counts() # How many times does each unique region occur?\n",
    "\n",
    "# We could have done this in one line!\n",
    "# gapminder['region'] = gapminder['region'].str.lstrip().str.rstrip().lower()"
   ]
  },
  {
   "cell_type": "markdown",
   "metadata": {},
   "source": [
    "### regex + replace()\n",
    "**Note: In code we need to uncomment correct regex of congo**\n",
    "A regular expression, aka regex, is a sequence of characters that define a search pattern. In a regular expression, the symbol “*” matches the preceding character 0 or more times, whereas “+” matches the preceding character 1 or more times. “.” matches any single character. Writing “x|y” means to match either ‘x’ or ‘y’.\n",
    "\n",
    "For more regex shortcuts (cheatsheet): https://www.shortcutfoo.com/app/dojos/regex/cheatsheet\n",
    "\n",
    "Pandas allows you to use regex in its replace() function -- when a regex term is found in an element, the element is then replaced with the specified replacement term. In order for it to appropriately correct elements, both regex and inplace variables need to be set to True (as their defaults are false). This ensures that the initial input string is read as a regular expression and that the elements will be modified in place.\n",
    "\n",
    "For more documentation on the replace method: http://pandas.pydata.org/pandas-docs/stable/generated/pandas.DataFrame.replace.html\n",
    "\n",
    "Here's an incorrect regex example: we create a temporary DataFrame in which a regex pulls all values that contain the term “congo”. Unfortunately, this creates 24 instances of the Democratic Republic of the Congo -- this is an error in our cleaning! We can revert back to the non-temporary DataFrame and correctly modify our regex to isolate only the Democratic Republic instances (as opposed to including the Republic as well)."
   ]
  },
  {
   "cell_type": "code",
   "execution_count": 56,
   "metadata": {
    "collapsed": false
   },
   "outputs": [
    {
     "data": {
      "text/plain": [
       "africa_dem rep congo             24\n",
       "asia_iraq                        12\n",
       "africa_zimbabwe                  12\n",
       "africa_morocco                   12\n",
       "africa_south africa              12\n",
       "europe_bosnia and herzegovina    12\n",
       "asia_japan                       12\n",
       "africa_ghana                     12\n",
       "africa_kenya                     12\n",
       "africa_sao tome and principe     12\n",
       "africa_equatorial guinea         12\n",
       "europe_france                    12\n",
       "africa_mauritania                12\n",
       "asia_india                       12\n",
       "europe_italy                     12\n",
       "asia_malaysia                    12\n",
       "americas_united states           12\n",
       "europe_montenegro                12\n",
       "asia_thailand                    12\n",
       "europe_poland                    12\n",
       "asia_pakistan                    12\n",
       "americas_guatemala               12\n",
       "africa_gabon                     12\n",
       "americas_puerto rico             12\n",
       "asia_lebanon                     12\n",
       "africa_egypt                     12\n",
       "europe_slovenia                  12\n",
       "europe_portugal                  12\n",
       "africa_nigeria                   12\n",
       "asia_jordan                      12\n",
       "                                 ..\n",
       "oceania_australia                12\n",
       "europe_norway                    12\n",
       "europe_albania                   12\n",
       "africa_benin                     12\n",
       "africa_gambia                    12\n",
       "africa_djibouti                  12\n",
       "asia_cambodia                    12\n",
       "americas_panama                  12\n",
       "africa_ethiopia                  12\n",
       "asia_korea, dem. rep.            12\n",
       "africa_liberia                   12\n",
       "americas_costa rica              12\n",
       "americas_el salvador             12\n",
       "europe_greece                    12\n",
       "africa_chad                      12\n",
       "africa_botswana                  12\n",
       "americas_uruguay                 12\n",
       "africa_mali                      12\n",
       "europe_serbia                    12\n",
       "africa_libya                     12\n",
       "europe_switzerland               12\n",
       "europe_bulgaria                  12\n",
       "asia_vietnam                     12\n",
       "africa_algeria                   12\n",
       "americas_argentina               12\n",
       "americas_paraguay                12\n",
       "africa_cote d'ivoire             11\n",
       "americas_canada                   9\n",
       "_canada                           3\n",
       "africa_cote d'ivore               1\n",
       "Name: region, dtype: int64"
      ]
     },
     "execution_count": 56,
     "metadata": {},
     "output_type": "execute_result"
    }
   ],
   "source": [
    "# This gives a problem -- 24 values of the congo!\n",
    "gapminder[gapminder[\"region\"].str.contains('congo')]\n",
    "temp = gapminder['region'].replace(\".*congo.*\", \"africa_dem rep congo\", regex=True)\n",
    "temp.value_counts()"
   ]
  },
  {
   "cell_type": "code",
   "execution_count": 58,
   "metadata": {
    "collapsed": false
   },
   "outputs": [
    {
     "data": {
      "text/plain": [
       "asia_iraq                        12\n",
       "africa_sao tome and principe     12\n",
       "africa_morocco                   12\n",
       "africa_south africa              12\n",
       "europe_bosnia and herzegovina    12\n",
       "asia_japan                       12\n",
       "africa_ghana                     12\n",
       "africa_kenya                     12\n",
       "africa_equatorial guinea         12\n",
       "asia_thailand                    12\n",
       "europe_france                    12\n",
       "africa_mauritania                12\n",
       "asia_india                       12\n",
       "europe_italy                     12\n",
       "asia_malaysia                    12\n",
       "americas_united states           12\n",
       "europe_montenegro                12\n",
       "europe_poland                    12\n",
       "africa_zimbabwe                  12\n",
       "asia_pakistan                    12\n",
       "americas_guatemala               12\n",
       "africa_gabon                     12\n",
       "americas_puerto rico             12\n",
       "asia_lebanon                     12\n",
       "africa_egypt                     12\n",
       "europe_slovenia                  12\n",
       "europe_portugal                  12\n",
       "africa_nigeria                   12\n",
       "asia_jordan                      12\n",
       "asia_israel                      12\n",
       "                                 ..\n",
       "europe_norway                    12\n",
       "europe_albania                   12\n",
       "africa_benin                     12\n",
       "africa_gambia                    12\n",
       "africa_djibouti                  12\n",
       "asia_cambodia                    12\n",
       "americas_panama                  12\n",
       "africa_ethiopia                  12\n",
       "asia_korea, dem. rep.            12\n",
       "africa_liberia                   12\n",
       "americas_costa rica              12\n",
       "americas_el salvador             12\n",
       "europe_greece                    12\n",
       "europe_iceland                   12\n",
       "africa_chad                      12\n",
       "africa_botswana                  12\n",
       "americas_uruguay                 12\n",
       "africa_mali                      12\n",
       "europe_serbia                    12\n",
       "africa_libya                     12\n",
       "europe_switzerland               12\n",
       "europe_bulgaria                  12\n",
       "asia_vietnam                     12\n",
       "africa_algeria                   12\n",
       "americas_argentina               12\n",
       "americas_paraguay                12\n",
       "africa_cote d'ivoire             11\n",
       "americas_canada                   9\n",
       "_canada                           3\n",
       "africa_cote d'ivore               1\n",
       "Name: region, dtype: int64"
      ]
     },
     "execution_count": 58,
     "metadata": {},
     "output_type": "execute_result"
    }
   ],
   "source": [
    "gapminder[gapminder[\"region\"].str.contains('congo')]\n",
    "gapminder['region'].replace(\".*congo, dem.*\", \"africa_dem rep congo\", regex=True, inplace=True)\n",
    "gapminder['region'].replace(\".*_democratic republic of the congo\", \"africa_dem rep congo\", regex=True, inplace=True)\n",
    "gapminder['region'].value_counts()"
   ]
  },
  {
   "cell_type": "code",
   "execution_count": 59,
   "metadata": {
    "collapsed": false
   },
   "outputs": [
    {
     "data": {
      "text/plain": [
       "asia_iraq                        12\n",
       "africa_kenya                     12\n",
       "europe_montenegro                12\n",
       "africa_morocco                   12\n",
       "africa_south africa              12\n",
       "europe_bosnia and herzegovina    12\n",
       "asia_japan                       12\n",
       "africa_ghana                     12\n",
       "africa_sao tome and principe     12\n",
       "europe_poland                    12\n",
       "africa_equatorial guinea         12\n",
       "europe_france                    12\n",
       "africa_mauritania                12\n",
       "asia_india                       12\n",
       "europe_italy                     12\n",
       "asia_malaysia                    12\n",
       "asia_thailand                    12\n",
       "africa_nigeria                   12\n",
       "americas_bolivia                 12\n",
       "europe_slovenia                  12\n",
       "americas_guatemala               12\n",
       "africa_gabon                     12\n",
       "africa_cote d'ivoire             12\n",
       "americas_puerto rico             12\n",
       "asia_lebanon                     12\n",
       "africa_egypt                     12\n",
       "asia_pakistan                    12\n",
       "europe_finland                   12\n",
       "europe_portugal                  12\n",
       "asia_jordan                      12\n",
       "                                 ..\n",
       "americas_panama                  12\n",
       "asia_cambodia                    12\n",
       "africa_djibouti                  12\n",
       "africa_gambia                    12\n",
       "europe_albania                   12\n",
       "africa_rwanda                    12\n",
       "asia_syria                       12\n",
       "europe_norway                    12\n",
       "oceania_australia                12\n",
       "africa_niger                     12\n",
       "europe_germany                   12\n",
       "africa_sudan                     12\n",
       "africa_liberia                   12\n",
       "americas_costa rica              12\n",
       "europe_serbia                    12\n",
       "americas_paraguay                12\n",
       "americas_argentina               12\n",
       "africa_algeria                   12\n",
       "asia_vietnam                     12\n",
       "europe_bulgaria                  12\n",
       "europe_switzerland               12\n",
       "europe_greece                    12\n",
       "americas_el salvador             12\n",
       "africa_mali                      12\n",
       "americas_uruguay                 12\n",
       "africa_botswana                  12\n",
       "africa_chad                      12\n",
       "europe_iceland                   12\n",
       "asia_iran                        12\n",
       "africa_libya                     12\n",
       "Name: region, dtype: int64"
      ]
     },
     "execution_count": 59,
     "metadata": {},
     "output_type": "execute_result"
    }
   ],
   "source": [
    "gapminder['region'].replace(\".*ivore.*\", \"africa_cote d'ivoire\", regex=True, inplace=True)\n",
    "gapminder['region'].replace(\"^_canada\", \"americas_canada\", regex=True, inplace=True)\n",
    "gapminder['region'].value_counts()"
   ]
  },
  {
   "cell_type": "markdown",
   "metadata": {},
   "source": [
    "## Tidy data\n",
    "\n",
    "Having what is called a _Tidy_ data set can make cleaning your data much easier. Two of the important aspects of Tidy data are:\n",
    "* every variable has its own column\n",
    "* every observation has its own row\n",
    "\n",
    "(there are other aspects of Tidy data, here is a good blog post about Tidy data in Python: http://www.jeannicholashould.com/tidy-data-in-python.html)\n",
    "\n",
    "Currently the dataset has a single column for continent and country (the ‘region’ column). We can split that column into two, by using the underscore that separates continent from country.\n",
    "We can create a new column in the DataFrame by naming it before the = sign:\n",
    "`gapminder[‘country’] = `\n",
    "\n",
    "The following commands use the function split() to split the string at the underscore (the first argument), which results in a list of two elements: before and after the \\_. The second argument tells split() that the split should take place only at the first occurrence of the underscore."
   ]
  },
  {
   "cell_type": "code",
   "execution_count": null,
   "metadata": {
    "collapsed": true
   },
   "outputs": [],
   "source": [
    "gapminder['country']=gapminder['region'].str.split('_', 1).str[1]\n",
    "gapminder['continent']=gapminder['region'].str.split('_', 1).str[0]\n",
    "gapminder\n"
   ]
  },
  {
   "cell_type": "markdown",
   "metadata": {},
   "source": [
    "## Handling Missing Data\n",
    "If you find that your data set contains missing data, pandas allows you to either remove all instances will null data or replace them with a particular value.\n",
    "\n",
    "`df = df.dropna()` drops rows with any column having NA/null data\n",
    "`df = df.fillna(value)` %replace all NA/null data with value\n",
    "\n",
    "## Handling (Unwanted) Repetitive Data\n",
    "You can identify which observations are duplicates.\n",
    "The call `df.duplicated()` will return boolean values for each row in the DataFrame telling you whether or not a row is repetitive.\n",
    "\n",
    "In cases where you don’t want repetitive values (we wouldn’t--we only want each country to be represented once for every relevant year), you can easily drop such duplicate rows with the call `df.drop_duplicates()`."
   ]
  },
  {
   "cell_type": "markdown",
   "metadata": {},
   "source": [
    "## Referencing objects vs copying objects\n",
    "Suppose you take a subset of your data and store it in a new variable, like `gapminder_early = gapminder[gapminder['year'] < 1970]`.  Doing this does not actually create a new object. Instead, you have just given a name to that subset of the original data: gapminder_early points to those rows of gapminder.  Any changes you make to the new dataframe gapminder_early will appear in the corresponding rows of gapminder too.  \n",
    "\n",
    "Often, you want to leave the original data untouched.  To avoid this problem, you can make a copy of your data before operating on a subset of the data.  This will ensure that one version of the original data is preserved.  For instance:\n",
    "\n",
    "<font color='red'>**TO DO:** this example doesn't actually illustrate the problem :(</font>"
   ]
  },
  {
   "cell_type": "code",
   "execution_count": 75,
   "metadata": {
    "collapsed": false
   },
   "outputs": [
    {
     "name": "stderr",
     "output_type": "stream",
     "text": [
      "/Library/Frameworks/Python.framework/Versions/3.4/lib/python3.4/site-packages/ipykernel/__main__.py:3: SettingWithCopyWarning: \n",
      "A value is trying to be set on a copy of a slice from a DataFrame.\n",
      "Try using .loc[row_indexer,col_indexer] = value instead\n",
      "\n",
      "See the caveats in the documentation: http://pandas.pydata.org/pandas-docs/stable/indexing.html#indexing-view-versus-copy\n",
      "  app.launch_new_instance()\n"
     ]
    }
   ],
   "source": [
    "gapminder_copy = gapminder.copy()\n",
    "gapminder_early = gapminder_copy[gapminder_copy['year'] < 1970]\n",
    "gapminder_early['pop'] = 0\n",
    "#print(gapminder_copy[gapminder_copy['year'] < 1970].head())\n",
    "#print(gapminder[gapminder['year'] < 1970].head())"
   ]
  },
  {
   "cell_type": "markdown",
   "metadata": {},
   "source": [
    "## Prepare the data structure -- tidy data\n",
    "\n",
    "* Describe Tidy Data - each variable has it’s own column, each observation has its own row. \n",
    "* Reshaping (if necessary) \n",
    "renaming columns (from names that don’t make sense, names with strange characters, etc to names that make sense) \n",
    "* Merging datasets,\n",
    "Pandas - merge()[left, right, inner, outer], concat()\n",
    "* Subsetting data\n",
    "0) refer back to the way we selected columns in .describe() above\n",
    "1) Indexing - numerically(zero indexing) vs by names, boolean indices, \n",
    "2) Slicing - base python and/or pandas\n",
    "3) List comprehensions\n",
    "* Regular expressions (complicated! But useful and important)\n",
    "* Grouping data, Indexing DataFrames\n",
    "df.groupby(by=\"col\")\n",
    "* Sorting data\n",
    "df.sort_values()\n",
    "df.sort_index()\n",
    "* Creating new variables/columns (for transformation (log, sqrt, etc)\n",
    "\n",
    "Ideas: subset by continent"
   ]
  },
  {
   "cell_type": "code",
   "execution_count": null,
   "metadata": {
    "collapsed": true
   },
   "outputs": [],
   "source": []
  },
  {
   "cell_type": "markdown",
   "metadata": {},
   "source": [
    "## Summarize and plot\n",
    "\n",
    "Summaries (but can’t *say* statistics…)\n",
    "* Sort data\n",
    "* Can make note about using numpy functions, dif between dataframe and array\n",
    "Good Plots for the data/variable type\n",
    "\n",
    "\n",
    "\n",
    "Plots \n",
    "* of subsets, \n",
    "* single variables\n",
    "* pairs of variables\n",
    "* Matplotlib syntax (w/ seaborn for defaults (prettier, package also good for more analysis later...))\n",
    "\n",
    "Exploring is often iterative - summarize, plot, summarize, plot, etc. - sometimes it branches…\n"
   ]
  },
  {
   "cell_type": "code",
   "execution_count": null,
   "metadata": {
    "collapsed": true
   },
   "outputs": [],
   "source": []
  },
  {
   "cell_type": "markdown",
   "metadata": {},
   "source": [
    "## Interpret plots"
   ]
  },
  {
   "cell_type": "code",
   "execution_count": null,
   "metadata": {
    "collapsed": true
   },
   "outputs": [],
   "source": []
  }
 ],
 "metadata": {
  "kernelspec": {
   "display_name": "Python 3",
   "language": "python",
   "name": "python3"
  },
  "language_info": {
   "codemirror_mode": {
    "name": "ipython",
    "version": 3
   },
   "file_extension": ".py",
   "mimetype": "text/x-python",
   "name": "python",
   "nbconvert_exporter": "python",
   "pygments_lexer": "ipython3",
   "version": "3.4.3"
  }
 },
 "nbformat": 4,
 "nbformat_minor": 1
}

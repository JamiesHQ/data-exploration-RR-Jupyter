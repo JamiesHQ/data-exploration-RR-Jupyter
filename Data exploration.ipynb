{
 "cells": [
  {
   "cell_type": "markdown",
   "metadata": {},
   "source": [
    "## Learning objectives\n",
    "* Students should be able to assess the structure and cleanliness of their dataset, including size and shape of data, number of variables of each type \n",
    "* Students should be able to describe their findings, translate results from code to text using Markdown comments in the Jupyter Notebook, and summarize their thought process in a narrative\n",
    "* Students should be able to modify the raw data to prepare a clean data set -- including copying data, removing or replacing missing and incoherent data, dropping columns, removing duplicates in Pandas and Jupyter -- and explain and justify their decisions in markdown in their Jupyter notebook\n",
    "* Students should be able to assess whether their data is “Tidy” and identify appropriate steps and write and  execute code to arrange it into a tidy format - including merging, reshaping, subsetting, grouping, sorting, making appropriate new columns  - and explain and justify their decisions in markdown in their Jupyter notebook\n",
    "* Students should be able to identify several relevant summary measures, illustrate data using appropriate plots, and explain and justify their decisions in markdown in their Jupyter notebook\n",
    "* Student should assess the summaries and plots and appraise the need for repeated or further analysis, and justify decisions in markdown\n"
   ]
  },
  {
   "cell_type": "markdown",
   "metadata": {},
   "source": [
    "## Assess the structure and cleanliness\n",
    "\n",
    "* Take “header” of data, # columns/rows, length, shape, size\n",
    "* Cheat sheet for commands\n",
    "* make sure data is in right type - categorical, continuous numerical, string, datetime\n",
    "* use markdown to comment\n"
   ]
  },
  {
   "cell_type": "code",
   "execution_count": null,
   "metadata": {
    "collapsed": true
   },
   "outputs": [],
   "source": []
  },
  {
   "cell_type": "markdown",
   "metadata": {},
   "source": [
    "## Describe findings, translate results into Markdown text\n",
    " This is more of an overarching goal that should be woven in through the lesson"
   ]
  },
  {
   "cell_type": "code",
   "execution_count": null,
   "metadata": {
    "collapsed": true
   },
   "outputs": [],
   "source": []
  },
  {
   "cell_type": "markdown",
   "metadata": {},
   "source": [
    "## Modify the dataset -- cleaning\n",
    "\n",
    "* Make a copy of the data\n",
    "in place vs. not\n",
    "pandas.DataFrame.copy() - make a copy of data frame\n",
    "* Assigning to new variable/df names \n",
    "* Dealing with missing data\n",
    "Pros and cons of dropping NAs and inconsistent data\n",
    "* Dealing with incoherent data (NA, na, N/A, n/a, ND, not done, XXXX) misspellings, etc\n",
    "Regex, data transformation to address inconsistency (fill_na)\n",
    "* Dropping columns\n",
    "df.drop()\n",
    "* Removing duplicates\n",
    "df.drop_duplicates()\n"
   ]
  },
  {
   "cell_type": "code",
   "execution_count": null,
   "metadata": {
    "collapsed": true
   },
   "outputs": [],
   "source": []
  },
  {
   "cell_type": "markdown",
   "metadata": {},
   "source": [
    "## Prepare the data structure -- tidy data\n",
    "\n",
    "* Describe Tidy Data - each variable has it’s own column, each observation has its own row. \n",
    "* Reshaping (if necessary) \n",
    "renaming columns (from names that don’t make sense, names with strange characters, etc to names that make sense) \n",
    "* Merging datasets,\n",
    "Pandas - merge()[left, right, inner, outer], concat()\n",
    "* Subsetting data\n",
    "Indexing - numerically(zero indexing) vs by names, boolean indices, \n",
    "Slicing - base python and/or pandas\n",
    "List comprehensions\n",
    "Regular expressions (complicated! But useful and important)\n",
    "* Grouping data, Indexing DataFrames\n",
    "df.groupby(by=\"col\")\n",
    "* Sorting data\n",
    "df.sort_values()\n",
    "df.sort_index()\n",
    "* Creating new variables/columns (for transformation (log, sqrt, etc)\n"
   ]
  },
  {
   "cell_type": "code",
   "execution_count": null,
   "metadata": {
    "collapsed": true
   },
   "outputs": [],
   "source": []
  },
  {
   "cell_type": "markdown",
   "metadata": {},
   "source": [
    "## Summarize and plot\n",
    "\n",
    "Summaries (but can’t *say* statistics…)\n",
    "* Sort data\n",
    "* Can make note about using numpy functions, dif between dataframe and array\n",
    "Good Plots for the data/variable type\n",
    "\n",
    "\n",
    "\n",
    "Plots \n",
    "* of subsets, \n",
    "* single variables\n",
    "* pairs of variables\n",
    "* Matplotlib syntax (w/ seaborn for defaults (prettier, package also good for more analysis later...))\n",
    "\n",
    "Exploring is often iterative - summarize, plot, summarize, plot, etc. - sometimes it branches…\n"
   ]
  },
  {
   "cell_type": "code",
   "execution_count": null,
   "metadata": {
    "collapsed": true
   },
   "outputs": [],
   "source": []
  },
  {
   "cell_type": "markdown",
   "metadata": {},
   "source": [
    "## Interpret plots"
   ]
  },
  {
   "cell_type": "code",
   "execution_count": null,
   "metadata": {
    "collapsed": true
   },
   "outputs": [],
   "source": []
  }
 ],
 "metadata": {
  "kernelspec": {
   "display_name": "Python 3",
   "language": "python",
   "name": "python3"
  },
  "language_info": {
   "codemirror_mode": {
    "name": "ipython",
    "version": 3
   },
   "file_extension": ".py",
   "mimetype": "text/x-python",
   "name": "python",
   "nbconvert_exporter": "python",
   "pygments_lexer": "ipython3",
   "version": "3.4.3"
  }
 },
 "nbformat": 4,
 "nbformat_minor": 1
}
